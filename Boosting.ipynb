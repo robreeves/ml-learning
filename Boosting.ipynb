{
 "cells": [
  {
   "cell_type": "markdown",
   "metadata": {},
   "source": [
    "# Reference\n",
    "\n",
    "https://medium.com/mlreview/gradient-boosting-from-scratch-1e317ae4587d"
   ]
  },
  {
   "cell_type": "markdown",
   "metadata": {},
   "source": [
    "# Imports"
   ]
  },
  {
   "cell_type": "code",
   "execution_count": 5,
   "metadata": {},
   "outputs": [],
   "source": [
    "import numpy as np\n",
    "import pandas as pd\n",
    "import matplotlib.pyplot as plt"
   ]
  },
  {
   "cell_type": "markdown",
   "metadata": {},
   "source": [
    "# Simple sample data"
   ]
  },
  {
   "cell_type": "code",
   "execution_count": 47,
   "metadata": {},
   "outputs": [
    {
     "data": {
      "text/plain": [
       "[<matplotlib.lines.Line2D at 0x12101e990>]"
      ]
     },
     "execution_count": 47,
     "metadata": {},
     "output_type": "execute_result"
    },
    {
     "data": {
      "image/png": "[encoded data removed]",
      "text/plain": [
       "<Figure size 432x288 with 1 Axes>"
      ]
     },
     "metadata": {
      "needs_background": "light"
     },
     "output_type": "display_data"
    }
   ],
   "source": [
    "np.random.seed(18)\n",
    "\n",
    "x = np.arange(0,50)\n",
    "\n",
    "y1 = np.random.uniform(10,15,10)\n",
    "y2 = np.random.uniform(20,25,10)\n",
    "y3 = np.random.uniform(0,5,10)\n",
    "y4 = np.random.uniform(30,32,10)\n",
    "y5 = np.random.uniform(13,17,10)\n",
    "\n",
    "y = np.concatenate((y1,y2,y3,y4,y5)).flatten()\n",
    "\n",
    "plt.plot(x, y, 'bo')"
   ]
  },
  {
   "cell_type": "markdown",
   "metadata": {},
   "source": [
    "# Linear regression from scratch\n",
    "\n",
    "Gradient boosting takes a simple model and fits the model again on the residuals of the first model. For this exercise I'll use linear regression and implement it from scratch for fun. This works with other model types and is more common with decision trees."
   ]
  },
  {
   "cell_type": "code",
   "execution_count": 78,
   "metadata": {},
   "outputs": [],
   "source": [
    "class LinearRegression:\n",
    "    \"\"\"\n",
    "    Ordinary Least Square Method\n",
    "    Reference: https://mubaris.com/posts/linear-regression/\n",
    "    \"\"\"\n",
    "    def __init__(self, x, y):\n",
    "        # y = mx + b\n",
    "        m, b = self._fit(x, y)\n",
    "        self._m = m\n",
    "        self._b = b\n",
    "        \n",
    "    def _fit(self, x, y):\n",
    "        x_mean = np.mean(x)\n",
    "        y_mean = np.mean(y)\n",
    "        \n",
    "        # calculate m\n",
    "        num = 0\n",
    "        den = 0\n",
    "        for x_i, y_i in zip(x, y):\n",
    "            num += (x_i - x_mean) * (y_i - y_mean)\n",
    "            den += (x_i - x_mean) ** 2\n",
    "            \n",
    "        m = num / den\n",
    "        b = y_mean - m * x_mean\n",
    "                \n",
    "        return (m, b)\n",
    "    \n",
    "    def predict(self, x):\n",
    "        y_pred = []\n",
    "        for x_i in x:\n",
    "            y_pred.append(self._m * x_i + self._b)\n",
    "            \n",
    "        return y_pred\n",
    "   \n",
    "\n",
    "# TODO this may be implemented wrong\n",
    "def r2(y, y_pred):\n",
    "    y_mean = np.mean(y)\n",
    "    mean_sum = 0\n",
    "    res_sum = 0\n",
    "    \n",
    "    for y_i, y_pred_i in zip(y, y_pred):\n",
    "        mean_sum = (y_i - y_mean) ** 2\n",
    "        res_sum = (y_i - y_pred_i) ** 2\n",
    "        \n",
    "    return 1 - res_sum / mean_sum"
   ]
  },
  {
   "cell_type": "code",
   "execution_count": 82,
   "metadata": {},
   "outputs": [
    {
     "name": "stdout",
     "output_type": "stream",
     "text": [
      "r^2: -1.894606397029099\n"
     ]
    },
    {
     "data": {
      "text/plain": [
       "[<matplotlib.lines.Line2D at 0x121e571d0>]"
      ]
     },
     "execution_count": 82,
     "metadata": {},
     "output_type": "execute_result"
    },
    {
     "data": {
      "image/png": "[encoded data removed]",
      "text/plain": [
       "<Figure size 432x288 with 1 Axes>"
      ]
     },
     "metadata": {
      "needs_background": "light"
     },
     "output_type": "display_data"
    }
   ],
   "source": [
    "model = LinearRegression(x, y)\n",
    "y_pred = model.predict(x)\n",
    "print(\"r^2: {}\".format(r2(y, y_pred)))\n",
    "\n",
    "plt.plot(x, y, 'bo')\n",
    "plt.plot(x, y_pred, 'r')"
   ]
  },
  {
   "cell_type": "code",
   "execution_count": null,
   "metadata": {},
   "outputs": [],
   "source": []
  }
 ],
 "metadata": {
  "kernelspec": {
   "display_name": "Python 3",
   "language": "python",
   "name": "python3"
  },
  "language_info": {
   "codemirror_mode": {
    "name": "ipython",
    "version": 3
   },
   "file_extension": ".py",
   "mimetype": "text/x-python",
   "name": "python",
   "nbconvert_exporter": "python",
   "pygments_lexer": "ipython3",
   "version": "3.7.4"
  }
 },
 "nbformat": 4,
 "nbformat_minor": 2
}
